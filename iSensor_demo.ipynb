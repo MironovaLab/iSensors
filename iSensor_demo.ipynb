{
 "cells": [
  {
   "cell_type": "code",
   "execution_count": 2,
   "id": "038fddef-575c-4ca5-84b8-d1931ec5621f",
   "metadata": {},
   "outputs": [],
   "source": [
    "library(iSensor)\n",
    "library(Seurat)"
   ]
  },
  {
   "cell_type": "markdown",
   "id": "d3c67a83-eac8-4e4f-98ff-f3c92904441c",
   "metadata": {},
   "source": [
    "##### Current version of the iSensor package is > 1.0.0"
   ]
  },
  {
   "cell_type": "code",
   "execution_count": 3,
   "id": "5e800855-f1e3-4681-b42e-c248589dffde",
   "metadata": {},
   "outputs": [
    {
     "data": {
      "text/plain": [
       "[1] '1.1.1'"
      ]
     },
     "metadata": {},
     "output_type": "display_data"
    }
   ],
   "source": [
    "packageVersion('iSensor')"
   ]
  },
  {
   "cell_type": "code",
   "execution_count": 4,
   "id": "70b7225d-c5cb-42b8-829f-4c775b477d69",
   "metadata": {},
   "outputs": [],
   "source": [
    "in_path <- \"D://FILES/work/Sensor/ISensors_data/Auxin_transcriptoms/\"\n",
    "seurat_obj <- readRDS(paste0(in_path, \"seurat_auxin_5bulkRNA-Seq.rds\"))"
   ]
  },
  {
   "cell_type": "markdown",
   "id": "22a81274-c166-4480-b5d1-37585d394aed",
   "metadata": {},
   "source": [
    "#### Running iSensor via default panels"
   ]
  },
  {
   "cell_type": "markdown",
   "id": "1619699d-98fd-4523-b174-7fc644608174",
   "metadata": {},
   "source": [
    "##### default arguments for iSensor_pipeline():\n",
    "* species = NULL\n",
    "* hormone = NULL\n",
    "* type = NULL\n",
    "* signals = c('mean_normed')\n",
    "* seurLayer = \"data\"\n",
    "* usePanelPreset = NULL\n",
    "* presetPanelName = NULL\n",
    "* randPanels = 2\n",
    "* randSize = c(200, 500)\n",
    "* majortrend = TRUE\n",
    "* usePanels = NULL\n",
    "* defaultAssay = NULL\n",
    "* useParallel = FALSE\n",
    "* nCores = NULL\n",
    "* metaPanels = list('R2D2' = list('srcPanels' = c('AT_aux_trans_A_ARF', 'AT_aux_trans_IAA'),\n",
    "                                                             'rule' = prod))"
   ]
  },
  {
   "cell_type": "markdown",
   "id": "afe1a0aa-1fed-4d89-8bec-f1ac40cd0953",
   "metadata": {},
   "source": [
    "##### To choose some of default panels and to construct metapanels from them we should do:"
   ]
  },
  {
   "cell_type": "code",
   "execution_count": 5,
   "id": "73da066c-d175-448b-a2cf-c4f5e74b32e1",
   "metadata": {},
   "outputs": [
    {
     "name": "stdout",
     "output_type": "stream",
     "text": [
      "AT_aux_cis_trans  panel preset will be used \n",
      "  |==================================================| 100%\n",
      "mean_normed signal was calculated\n"
     ]
    },
    {
     "name": "stderr",
     "output_type": "stream",
     "text": [
      "Warning message:\n",
      "\"Feature names cannot have underscores ('_'), replacing with dashes ('-')\"\n",
      "Warning message:\n",
      "\"Feature names cannot have underscores ('_'), replacing with dashes ('-')\"\n"
     ]
    }
   ],
   "source": [
    "seurat_obj <- iSensor_pipeline(seuratObject=seurat_obj, species = 'AT', hormone = 'aux', type = c('cis','trans'))"
   ]
  },
  {
   "cell_type": "code",
   "execution_count": 6,
   "id": "aadcc0ff-cd31-4b42-9a0c-43c225494e43",
   "metadata": {},
   "outputs": [
    {
     "name": "stdout",
     "output_type": "stream",
     "text": [
      "[1] \"RNA\"                 \"iSensor_mean_normed\"\n"
     ]
    }
   ],
   "source": [
    "print(names(seurat_obj@assays))"
   ]
  },
  {
   "cell_type": "code",
   "execution_count": 7,
   "id": "33429af5-8b89-443b-92a5-07d234fa8ab2",
   "metadata": {},
   "outputs": [
    {
     "data": {
      "text/plain": [
       "10 x 3 sparse Matrix of class \"dgCMatrix\"\n",
       "                       05h.control_1 05h.control_2 05h.control_3\n",
       "R2D2                        1.996965      2.139898      2.183703\n",
       "AT-aux-cis-DR5-ARF1         1.164821      1.144544      1.196540\n",
       "AT-aux-cis-DR5-ARF2         1.139727      1.132327      1.153472\n",
       "AT-aux-cis-DR5-ARF3         1.068415      1.009548      1.091252\n",
       "AT-aux-cis-DR5-ARF5-1       1.034709      1.058774      1.055864\n",
       "AT-aux-cis-DR5-ARF5-2       1.165647      1.146833      1.168564\n",
       "AT-aux-cis-DR5-ARF5syn      1.080633      1.086659      1.101181\n",
       "AT-aux-cis-DR5-ARF6         1.125855      1.143955      1.147455\n",
       "AT-aux-cis-DR5-ARF8         1.125855      1.143955      1.147455\n",
       "AT-aux-cis-DR5-TGTCNN       1.048300      1.083191      1.106175"
      ]
     },
     "metadata": {},
     "output_type": "display_data"
    }
   ],
   "source": [
    "seurat_obj@assays$iSensor_mean_normed@counts[1:10, 1:3]"
   ]
  },
  {
   "cell_type": "markdown",
   "id": "af01e700-9f05-4551-b8d4-e6797627f06c",
   "metadata": {},
   "source": [
    "#### Running iSensor via custom panels"
   ]
  },
  {
   "cell_type": "markdown",
   "id": "1f600696-ac06-4c29-ba9b-049a864ceb85",
   "metadata": {},
   "source": [
    "##### To make panel set from user files we can use function read_genePanels() before iSensor_pipeline():\n",
    "* panelsDir\n",
    "* species = NULL\n",
    "* hormone = NULL\n",
    "* type = NULL\n",
    "* panelsFiles = NULL\n",
    "* format = \"rda\""
   ]
  },
  {
   "cell_type": "markdown",
   "id": "e2a5b6f8-e2f7-48d1-9336-d570b8801ff9",
   "metadata": {},
   "source": [
    "##### Files can be with rda or txt format and each file must have name containing at least 4 parts separated by '_': <br>\n",
    "for example AT_aux_cis_DR5(ARF1):\n",
    "* AT for species\n",
    "* aux for hormone\n",
    "* trans for type\n",
    "* other part is a unique name"
   ]
  },
  {
   "cell_type": "code",
   "execution_count": 18,
   "id": "a4bdd6b9-fe2f-4f85-ac24-c5de8b6d8231",
   "metadata": {},
   "outputs": [],
   "source": [
    "customPanelSet <- read_genePanels(panelsDir = 'geneSensors/Auxin',\n",
    "                                  species = 'AT', hormone = 'aux', type = 'trans', format = 'txt')"
   ]
  },
  {
   "cell_type": "code",
   "execution_count": 19,
   "id": "7fee4aae-30da-49f3-a4c1-a8cede03b29a",
   "metadata": {},
   "outputs": [
    {
     "data": {
      "text/html": [
       "<style>\n",
       ".list-inline {list-style: none; margin:0; padding: 0}\n",
       ".list-inline>li {display: inline-block}\n",
       ".list-inline>li:not(:last-child)::after {content: \"\\00b7\"; padding: 0 .5ex}\n",
       "</style>\n",
       "<ol class=list-inline><li>'AT_aux_trans_A-ARF'</li><li>'AT_aux_trans_ARF'</li><li>'AT_aux_trans_EffluxInflux'</li><li>'AT_aux_trans_IAA'</li><li>'AT_aux_trans_Receptors'</li><li>'AT_aux_trans_Synthesis'</li><li>'AT_aux_trans_Transport'</li></ol>\n"
      ],
      "text/latex": [
       "\\begin{enumerate*}\n",
       "\\item 'AT\\_aux\\_trans\\_A-ARF'\n",
       "\\item 'AT\\_aux\\_trans\\_ARF'\n",
       "\\item 'AT\\_aux\\_trans\\_EffluxInflux'\n",
       "\\item 'AT\\_aux\\_trans\\_IAA'\n",
       "\\item 'AT\\_aux\\_trans\\_Receptors'\n",
       "\\item 'AT\\_aux\\_trans\\_Synthesis'\n",
       "\\item 'AT\\_aux\\_trans\\_Transport'\n",
       "\\end{enumerate*}\n"
      ],
      "text/markdown": [
       "1. 'AT_aux_trans_A-ARF'\n",
       "2. 'AT_aux_trans_ARF'\n",
       "3. 'AT_aux_trans_EffluxInflux'\n",
       "4. 'AT_aux_trans_IAA'\n",
       "5. 'AT_aux_trans_Receptors'\n",
       "6. 'AT_aux_trans_Synthesis'\n",
       "7. 'AT_aux_trans_Transport'\n",
       "\n",
       "\n"
      ],
      "text/plain": [
       "[1] \"AT_aux_trans_A-ARF\"        \"AT_aux_trans_ARF\"         \n",
       "[3] \"AT_aux_trans_EffluxInflux\" \"AT_aux_trans_IAA\"         \n",
       "[5] \"AT_aux_trans_Receptors\"    \"AT_aux_trans_Synthesis\"   \n",
       "[7] \"AT_aux_trans_Transport\"   "
      ]
     },
     "metadata": {},
     "output_type": "display_data"
    }
   ],
   "source": [
    "names(customPanelSet)"
   ]
  },
  {
   "cell_type": "markdown",
   "id": "01bcf539-5dc1-494d-9764-c203c12e69b9",
   "metadata": {},
   "source": [
    "##### Then adding it as argument usePanelPreset = customPanelSet to iSensor_pipeline() with name presetPanelName = 'customPanelSet'"
   ]
  },
  {
   "cell_type": "code",
   "execution_count": 20,
   "id": "99c30aac-3b1b-44ff-b9ab-c3fd78a5d6b4",
   "metadata": {},
   "outputs": [
    {
     "name": "stdout",
     "output_type": "stream",
     "text": [
      "customPanelSet  panel preset will be used \n",
      "  |==================================================| 100%\n",
      "mean_normed signal was calculated\n"
     ]
    },
    {
     "name": "stderr",
     "output_type": "stream",
     "text": [
      "Warning message:\n",
      "\"Feature names cannot have underscores ('_'), replacing with dashes ('-')\"\n",
      "Warning message:\n",
      "\"Feature names cannot have underscores ('_'), replacing with dashes ('-')\"\n",
      "Warning message:\n",
      "\"Different cells and/or features from existing assay iSensor_mean_normed\"\n"
     ]
    }
   ],
   "source": [
    "seurat_obj <- iSensor_pipeline(seuratObject=seurat_obj, usePanelPreset = customPanelSet, presetPanelName = 'customPanelSet',\n",
    "                               metaPanels = list('R2D2' = list('srcPanels' = c('AT_aux_trans_A-ARF', 'AT_aux_trans_IAA'), 'rule' = prod)))"
   ]
  },
  {
   "cell_type": "code",
   "execution_count": 21,
   "id": "d0c6e1b0-5a38-48cf-969d-761c49d7bf67",
   "metadata": {},
   "outputs": [
    {
     "data": {
      "text/plain": [
       "10 x 3 sparse Matrix of class \"dgCMatrix\"\n",
       "                          05h.control_1 05h.control_2 05h.control_3\n",
       "R2D2                          1.9969651     2.1398980     2.1837035\n",
       "AT-aux-trans-A-ARF            2.0068147     1.9135411     2.0455711\n",
       "AT-aux-trans-ARF              1.6879695     1.6553926     1.7297495\n",
       "AT-aux-trans-EffluxInflux     1.2985030     1.3316319     1.3200798\n",
       "AT-aux-trans-IAA              0.9950919     1.1182921     1.0675275\n",
       "AT-aux-trans-Receptors        1.2817510     1.0764612     1.5643007\n",
       "AT-aux-trans-Synthesis        0.1694867     0.2094232     0.1233350\n",
       "AT-aux-trans-Transport        1.2334623     1.1703756     1.1250098\n",
       "majortrend                    1.0056282     1.0210762     1.0202157\n",
       "random1                       0.9548777     0.9373976     0.9125508"
      ]
     },
     "metadata": {},
     "output_type": "display_data"
    }
   ],
   "source": [
    "seurat_obj@assays$iSensor_mean_normed@counts[1:10, 1:3]"
   ]
  }
 ],
 "metadata": {
  "kernelspec": {
   "display_name": "R 4.1.1",
   "language": "R",
   "name": "ir411"
  },
  "language_info": {
   "codemirror_mode": "r",
   "file_extension": ".r",
   "mimetype": "text/x-r-source",
   "name": "R",
   "pygments_lexer": "r",
   "version": "4.1.1"
  }
 },
 "nbformat": 4,
 "nbformat_minor": 5
}
