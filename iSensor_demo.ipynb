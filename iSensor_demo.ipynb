{
 "cells": [
  {
   "cell_type": "code",
   "execution_count": 11,
   "id": "038fddef-575c-4ca5-84b8-d1931ec5621f",
   "metadata": {},
   "outputs": [],
   "source": [
    "library(iSensor)\n",
    "library(Seurat)"
   ]
  },
  {
   "cell_type": "markdown",
   "id": "d3c67a83-eac8-4e4f-98ff-f3c92904441c",
   "metadata": {},
   "source": [
    "##### Current version of the iSensor package is > 1.0.0"
   ]
  },
  {
   "cell_type": "code",
   "execution_count": 15,
   "id": "5e800855-f1e3-4681-b42e-c248589dffde",
   "metadata": {},
   "outputs": [
    {
     "data": {
      "text/plain": [
       "[1] '1.1.0'"
      ]
     },
     "metadata": {},
     "output_type": "display_data"
    }
   ],
   "source": [
    "packageVersion('iSensor')"
   ]
  },
  {
   "cell_type": "code",
   "execution_count": 16,
   "id": "70b7225d-c5cb-42b8-829f-4c775b477d69",
   "metadata": {},
   "outputs": [],
   "source": [
    "in_path <- \"D://FILES/work/Sensor/ISensors_data/Auxin_transcriptoms/\"\n",
    "seurat_obj <- readRDS(paste0(in_path, \"seurat_auxin_5bulkRNA-Seq.rds\"))"
   ]
  },
  {
   "cell_type": "markdown",
   "id": "22a81274-c166-4480-b5d1-37585d394aed",
   "metadata": {},
   "source": [
    "#### Running iSensor via custom panels"
   ]
  },
  {
   "cell_type": "markdown",
   "id": "1619699d-98fd-4523-b174-7fc644608174",
   "metadata": {},
   "source": [
    "##### default arguments for iSensor_pipeline():\n",
    "* presetPanels = 'allSpec_allHorm_allType'\n",
    "* signals = c('mean_normed')\n",
    "* seurLayer = \"data\"\n",
    "* usePanelPreset = NULL\n",
    "* randPanels = 2\n",
    "* randSize = c(200, 500)\n",
    "* majortrend = TRUE\n",
    "* usePanels = NULL\n",
    "* defaultAssay = NULL\n",
    "* useParallel = FALSE\n",
    "* nCores = NULL\n",
    "* metaPanels = list('R2D2' = list('srcPanels' = c('AT_aux_trans_A_ARF', 'AT_aux_trans_IAA'),\n",
    "                                                             'rule' = prod))"
   ]
  },
  {
   "cell_type": "code",
   "execution_count": 18,
   "id": "ee0d6178-cfd3-47b6-9c8d-05dc829ff87b",
   "metadata": {},
   "outputs": [
    {
     "name": "stdout",
     "output_type": "stream",
     "text": [
      "List of 7\n",
      " $ exprData     : NULL\n",
      " $ genePanels   : NULL\n",
      " $ Signals      : NULL\n",
      " $ sampleLabels : NULL\n",
      " $ importance   : NULL\n",
      " $ genePanelSets:List of 1\n",
      "  ..$ allSpec_allHorm_allType:List of 61\n",
      "  .. ..$ AT_aux_cis_DR5_ARF1             :'data.frame':\t371 obs. of  1 variable:\n",
      "  .. .. ..$ Genes: chr [1:371] \"AT1G01860\" \"AT1G02330\" \"AT1G02490\" \"AT1G03080\" ...\n",
      "  .. ..$ AT_aux_cis_DR5_ARF2             :'data.frame':\t1192 obs. of  1 variable:\n",
      "  .. .. ..$ Genes: chr [1:1192] \"AT1G01080\" \"AT1G01230\" \"AT1G01950\" \"AT1G02050\" ...\n",
      "  .. ..$ AT_aux_cis_DR5_ARF3             :'data.frame':\t420 obs. of  1 variable:\n",
      "  .. .. ..$ Genes: chr [1:420] \"AT1G01150\" \"AT1G01630\" \"AT1G02480\" \"AT1G03830\" ...\n",
      "  .. ..$ AT_aux_cis_DR5_ARF5_1           :'data.frame':\t1916 obs. of  1 variable:\n",
      "  .. .. ..$ Genes: chr [1:1916] \"AT1G01010\" \"AT1G01090\" \"AT1G01120\" \"AT1G01150\" ...\n",
      "  .. ..$ AT_aux_cis_DR5_ARF5_2           :'data.frame':\t502 obs. of  1 variable:\n",
      "  .. .. ..$ Genes: chr [1:502] \"AT1G01090\" \"AT1G01150\" \"AT1G01630\" \"AT1G01870\" ...\n",
      "  .. ..$ AT_aux_cis_DR5_ARF5syn          :'data.frame':\t5113 obs. of  1 variable:\n",
      "  .. .. ..$ Genes: chr [1:5113] \"AT1G01010\" \"AT1G01080\" \"AT1G01090\" \"AT1G01150\" ...\n",
      "  .. ..$ AT_aux_cis_DR5_ARF6             :'data.frame':\t2125 obs. of  1 variable:\n",
      "  .. .. ..$ Genes: chr [1:2125] \"AT1G01260\" \"AT1G01320\" \"AT1G01520\" \"AT1G01800\" ...\n",
      "  .. ..$ AT_aux_cis_DR5_ARF8             :'data.frame':\t2125 obs. of  1 variable:\n",
      "  .. .. ..$ Genes: chr [1:2125] \"AT1G01260\" \"AT1G01320\" \"AT1G01520\" \"AT1G01800\" ...\n",
      "  .. ..$ AT_aux_cis_DR5_TGTCNN           :'data.frame':\t746 obs. of  1 variable:\n",
      "  .. .. ..$ Genes: chr [1:746] \"AT1G01250\" \"AT1G01960\" \"AT1G02650\" \"AT1G03070\" ...\n",
      "  .. ..$ AT_aux_cis_IR8_ARF1             :'data.frame':\t213 obs. of  1 variable:\n",
      "  .. .. ..$ Genes: chr [1:213] \"AT1G01800\" \"AT1G04410\" \"AT1G05750\" \"AT1G06450\" ...\n",
      "  .. ..$ AT_aux_cis_IR8_ARF2             :'data.frame':\t486 obs. of  1 variable:\n",
      "  .. .. ..$ Genes: chr [1:486] \"AT1G01240\" \"AT1G01340\" \"AT1G01760\" \"AT1G02074\" ...\n",
      "  .. ..$ AT_aux_cis_IR8_ARF3             :'data.frame':\t219 obs. of  1 variable:\n",
      "  .. .. ..$ Genes: chr [1:219] \"AT1G05670\" \"AT1G06440\" \"AT1G07725\" \"AT1G09460\" ...\n",
      "  .. ..$ AT_aux_cis_IR8_ARF5_1           :'data.frame':\t769 obs. of  1 variable:\n",
      "  .. .. ..$ Genes: chr [1:769] \"AT1G01340\" \"AT1G02890\" \"AT1G03070\" \"AT1G04590\" ...\n",
      "  .. ..$ AT_aux_cis_IR8_ARF5_2           :'data.frame':\t244 obs. of  1 variable:\n",
      "  .. .. ..$ Genes: chr [1:244] \"AT1G01355\" \"AT1G01760\" \"AT1G05670\" \"AT1G05860\" ...\n",
      "  .. ..$ AT_aux_cis_IR8_ARF5syn          :'data.frame':\t2388 obs. of  1 variable:\n",
      "  .. .. ..$ Genes: chr [1:2388] \"AT1G01130\" \"AT1G01240\" \"AT1G01340\" \"AT1G01360\" ...\n",
      "  .. ..$ AT_aux_cis_IR8_ARF6             :'data.frame':\t581 obs. of  1 variable:\n",
      "  .. .. ..$ Genes: chr [1:581] \"AT1G01040\" \"AT1G01750\" \"AT1G01860\" \"AT1G03440\" ...\n",
      "  .. ..$ AT_aux_cis_IR8_ARF8             :'data.frame':\t581 obs. of  1 variable:\n",
      "  .. .. ..$ Genes: chr [1:581] \"AT1G01040\" \"AT1G01750\" \"AT1G01860\" \"AT1G03440\" ...\n",
      "  .. ..$ AT_aux_cis_IR8_TGTCNN           :'data.frame':\t317 obs. of  1 variable:\n",
      "  .. .. ..$ Genes: chr [1:317] \"AT1G02890\" \"AT1G05360\" \"AT1G06470\" \"AT1G06500\" ...\n",
      "  .. ..$ AT_aux_cistrans_DR5_ARF1_down   :'data.frame':\t19 obs. of  1 variable:\n",
      "  .. .. ..$ Genes: chr [1:19] \"AT1G03080\" \"AT1G05790\" \"AT1G13260\" \"AT1G18160\" ...\n",
      "  .. ..$ AT_aux_cistrans_DR5_ARF1_up     :'data.frame':\t28 obs. of  1 variable:\n",
      "  .. .. ..$ Genes: chr [1:28] \"AT1G03820\" \"AT1G22980\" \"AT1G56600\" \"AT1G61730\" ...\n",
      "  .. ..$ AT_aux_cistrans_DR5_ARF2_down   :'data.frame':\t54 obs. of  1 variable:\n",
      "  .. .. ..$ Genes: chr [1:54] \"AT1G03070\" \"AT1G18640\" \"AT1G29800\" \"AT1G31770\" ...\n",
      "  .. ..$ AT_aux_cistrans_DR5_ARF2_up     :'data.frame':\t94 obs. of  1 variable:\n",
      "  .. .. ..$ Genes: chr [1:94] \"AT1G03190\" \"AT1G10460\" \"AT1G15420\" \"AT1G16830\" ...\n",
      "  .. ..$ AT_aux_cistrans_DR5_ARF3_down   :'data.frame':\t18 obs. of  1 variable:\n",
      "  .. .. ..$ Genes: chr [1:18] \"AT1G29470\" \"AT1G49730\" \"AT1G61740\" \"AT1G72450\" ...\n",
      "  .. ..$ AT_aux_cistrans_DR5_ARF3_up     :'data.frame':\t34 obs. of  1 variable:\n",
      "  .. .. ..$ Genes: chr [1:34] \"AT1G09350\" \"AT1G13910\" \"AT1G25275\" \"AT1G25330\" ...\n",
      "  .. ..$ AT_aux_cistrans_DR5_ARF5_1_down :'data.frame':\t89 obs. of  1 variable:\n",
      "  .. .. ..$ Genes: chr [1:89] \"AT1G06060\" \"AT1G13900\" \"AT1G16410\" \"AT1G18270\" ...\n",
      "  .. ..$ AT_aux_cistrans_DR5_ARF5_1_up   :'data.frame':\t127 obs. of  1 variable:\n",
      "  .. .. ..$ Genes: chr [1:127] \"AT1G01810\" \"AT1G02220\" \"AT1G15420\" \"AT1G15772\" ...\n",
      "  .. ..$ AT_aux_cistrans_DR5_ARF5_2_down :'data.frame':\t25 obs. of  1 variable:\n",
      "  .. .. ..$ Genes: chr [1:25] \"AT1G23310\" \"AT1G49730\" \"AT1G59900\" \"AT1G61740\" ...\n",
      "  .. ..$ AT_aux_cistrans_DR5_ARF5_2_up   :'data.frame':\t30 obs. of  1 variable:\n",
      "  .. .. ..$ Genes: chr [1:30] \"AT1G06920\" \"AT1G08170\" \"AT1G09350\" \"AT1G22970\" ...\n",
      "  .. ..$ AT_aux_cistrans_DR5_ARF5syn_down:'data.frame':\t249 obs. of  1 variable:\n",
      "  .. .. ..$ Genes: chr [1:249] \"AT1G02305\" \"AT1G03070\" \"AT1G05320\" \"AT1G05590\" ...\n",
      "  .. ..$ AT_aux_cistrans_DR5_ARF5syn_up  :'data.frame':\t357 obs. of  1 variable:\n",
      "  .. .. ..$ Genes: chr [1:357] \"AT1G01920\" \"AT1G02220\" \"AT1G02813\" \"AT1G02900\" ...\n",
      "  .. ..$ AT_aux_cistrans_DR5_ARF6_down   :'data.frame':\t84 obs. of  1 variable:\n",
      "  .. .. ..$ Genes: chr [1:84] \"AT1G03070\" \"AT1G06830\" \"AT1G11070\" \"AT1G14240\" ...\n",
      "  .. ..$ AT_aux_cistrans_DR5_ARF6_up     :'data.frame':\t109 obs. of  1 variable:\n",
      "  .. .. ..$ Genes: chr [1:109] \"AT1G08700\" \"AT1G09690\" \"AT1G11120\" \"AT1G19220\" ...\n",
      "  .. ..$ AT_aux_cistrans_DR5_ARF8_down   :'data.frame':\t84 obs. of  1 variable:\n",
      "  .. .. ..$ Genes: chr [1:84] \"AT1G03070\" \"AT1G06830\" \"AT1G11070\" \"AT1G14240\" ...\n",
      "  .. ..$ AT_aux_cistrans_DR5_ARF8_up     :'data.frame':\t109 obs. of  1 variable:\n",
      "  .. .. ..$ Genes: chr [1:109] \"AT1G08700\" \"AT1G09690\" \"AT1G11120\" \"AT1G19220\" ...\n",
      "  .. ..$ AT_aux_cistrans_DR5_TGTCNN_down :'data.frame':\t36 obs. of  1 variable:\n",
      "  .. .. ..$ Genes: chr [1:36] \"AT1G03070\" \"AT1G18270\" \"AT1G29050\" \"AT1G32470\" ...\n",
      "  .. ..$ AT_aux_cistrans_DR5_TGTCNN_up   :'data.frame':\t56 obs. of  1 variable:\n",
      "  .. .. ..$ Genes: chr [1:56] \"AT1G15772\" \"AT1G19220\" \"AT1G26910\" \"AT1G28395\" ...\n",
      "  .. ..$ AT_aux_cistrans_IR8_ARF1_down   :'data.frame':\t10 obs. of  1 variable:\n",
      "  .. .. ..$ Genes: chr [1:10] \"AT1G49240\" \"AT2G34720\" \"AT2G43100\" \"AT2G45620\" ...\n",
      "  .. ..$ AT_aux_cistrans_IR8_ARF1_up     :'data.frame':\t10 obs. of  1 variable:\n",
      "  .. .. ..$ Genes: chr [1:10] \"AT1G11920\" \"AT1G29510\" \"AT1G30510\" \"AT1G32385\" ...\n",
      "  .. ..$ AT_aux_cistrans_IR8_ARF2_down   :'data.frame':\t17 obs. of  1 variable:\n",
      "  .. .. ..$ Genes: chr [1:17] \"AT1G07650\" \"AT1G18270\" \"AT1G29050\" \"AT1G59520\" ...\n",
      "  .. ..$ AT_aux_cistrans_IR8_ARF2_up     :'data.frame':\t33 obs. of  1 variable:\n",
      "  .. .. ..$ Genes: chr [1:33] \"AT1G09350\" \"AT1G22840\" \"AT1G25350\" \"AT1G56600\" ...\n",
      "  .. ..$ AT_aux_cistrans_IR8_ARF3_down   :'data.frame':\t6 obs. of  1 variable:\n",
      "  .. .. ..$ Genes: chr [1:6] \"AT1G18270\" \"AT2G30990\" \"AT2G34720\" \"AT2G43360\" ...\n",
      "  .. ..$ AT_aux_cistrans_IR8_ARF3_up     :'data.frame':\t14 obs. of  1 variable:\n",
      "  .. .. ..$ Genes: chr [1:14] \"AT1G29510\" \"AT1G50370\" \"AT1G56600\" \"AT1G80240\" ...\n",
      "  .. ..$ AT_aux_cistrans_IR8_ARF5_1_down :'data.frame':\t36 obs. of  1 variable:\n",
      "  .. .. ..$ Genes: chr [1:36] \"AT1G03070\" \"AT1G10090\" \"AT1G18270\" \"AT1G19870\" ...\n",
      "  .. ..$ AT_aux_cistrans_IR8_ARF5_1_up   :'data.frame':\t67 obs. of  1 variable:\n",
      "  .. .. ..$ Genes: chr [1:67] \"AT1G08360\" \"AT1G09350\" \"AT1G11920\" \"AT1G26720\" ...\n",
      "  .. ..$ AT_aux_cistrans_IR8_ARF5_2_down :'data.frame':\t9 obs. of  1 variable:\n",
      "  .. .. ..$ Genes: chr [1:9] \"AT1G10090\" \"AT1G18270\" \"AT3G14067\" \"AT4G37930\" ...\n",
      "  .. ..$ AT_aux_cistrans_IR8_ARF5_2_up   :'data.frame':\t21 obs. of  1 variable:\n",
      "  .. .. ..$ Genes: chr [1:21] \"AT1G11920\" \"AT1G18670\" \"AT1G29510\" \"AT1G52830\" ...\n",
      "  .. ..$ AT_aux_cistrans_IR8_ARF5syn_down:'data.frame':\t111 obs. of  1 variable:\n",
      "  .. .. ..$ Genes: chr [1:111] \"AT1G01780\" \"AT1G02305\" \"AT1G03070\" \"AT1G07650\" ...\n",
      "  .. ..$ AT_aux_cistrans_IR8_ARF5syn_up  :'data.frame':\t184 obs. of  1 variable:\n",
      "  .. .. ..$ Genes: chr [1:184] \"AT1G01130\" \"AT1G08165\" \"AT1G08170\" \"AT1G08360\" ...\n",
      "  .. ..$ AT_aux_cistrans_IR8_ARF6_down   :'data.frame':\t28 obs. of  1 variable:\n",
      "  .. .. ..$ Genes: chr [1:28] \"AT1G10090\" \"AT1G11180\" \"AT1G19670\" \"AT1G55360\" ...\n",
      "  .. ..$ AT_aux_cistrans_IR8_ARF6_up     :'data.frame':\t41 obs. of  1 variable:\n",
      "  .. .. ..$ Genes: chr [1:41] \"AT1G04310\" \"AT1G08165\" \"AT1G11920\" \"AT1G16220\" ...\n",
      "  .. ..$ AT_aux_cistrans_IR8_ARF8_down   :'data.frame':\t28 obs. of  1 variable:\n",
      "  .. .. ..$ Genes: chr [1:28] \"AT1G10090\" \"AT1G11180\" \"AT1G19670\" \"AT1G55360\" ...\n",
      "  .. ..$ AT_aux_cistrans_IR8_ARF8_up     :'data.frame':\t41 obs. of  1 variable:\n",
      "  .. .. ..$ Genes: chr [1:41] \"AT1G04310\" \"AT1G08165\" \"AT1G11920\" \"AT1G16220\" ...\n",
      "  .. ..$ AT_aux_cistrans_IR8_TGTCNN_down :'data.frame':\t10 obs. of  1 variable:\n",
      "  .. .. ..$ Genes: chr [1:10] \"AT1G10090\" \"AT1G56010\" \"AT1G62640\" \"AT2G30990\" ...\n",
      "  .. ..$ AT_aux_cistrans_IR8_TGTCNN_up   :'data.frame':\t25 obs. of  1 variable:\n",
      "  .. .. ..$ Genes: chr [1:25] \"AT1G08165\" \"AT1G29510\" \"AT1G48630\" \"AT1G53050\" ...\n",
      "  .. ..$ AT_aux_trans_A_ARF              :'data.frame':\t5 obs. of  1 variable:\n",
      "  .. .. ..$ Genes: chr [1:5] \"AT1G19850\" \"AT1G30330\" \"AT5G20730\" \"AT5G37020\" ...\n",
      "  .. ..$ AT_aux_trans_ARF                :'data.frame':\t22 obs. of  1 variable:\n",
      "  .. .. ..$ Genes: chr [1:22] \"AT2G28350\" \"AT2G46530\" \"AT1G34310\" \"AT1G34170\" ...\n",
      "  .. ..$ AT_aux_trans_EffluxInflux       :'data.frame':\t12 obs. of  1 variable:\n",
      "  .. .. ..$ Genes: chr [1:12] \"AT2G38120\" \"AT5G01240\" \"AT2G21050\" \"AT1G77690\" ...\n",
      "  .. ..$ AT_aux_trans_IAA                :'data.frame':\t27 obs. of  1 variable:\n",
      "  .. .. ..$ Genes: chr [1:27] \"AT4G14560\" \"AT1G04100\" \"AT4G28640\" \"AT1G04550\" ...\n",
      "  .. ..$ AT_aux_trans_Receptors          :'data.frame':\t12 obs. of  1 variable:\n",
      "  .. .. ..$ Genes: chr [1:12] \"AT3G62980\" \"AT3G26810\" \"AT1G12820\" \"AT4G24390\" ...\n",
      "  .. ..$ AT_aux_trans_Synthesis          :'data.frame':\t16 obs. of  1 variable:\n",
      "  .. .. ..$ Genes: chr [1:16] \"AT1G70560\" \"AT1G23320\" \"AT4G24670\" \"AT1G34040\" ...\n",
      "  .. ..$ AT_aux_trans_Transport          :'data.frame':\t25 obs. of  1 variable:\n",
      "  .. .. ..$ Genes: chr [1:25] \"AT2G38120\" \"AT5G01240\" \"AT2G21050\" \"AT1G77690\" ...\n",
      " $ metaData     : NULL\n",
      " - attr(*, \"class\")= chr \"iSensor\"\n"
     ]
    }
   ],
   "source": [
    "str(create_iSensor())"
   ]
  },
  {
   "cell_type": "code",
   "execution_count": 20,
   "id": "a851ecb2-2247-4431-8274-9eaedd6f3a2b",
   "metadata": {},
   "outputs": [
    {
     "data": {
      "text/html": [
       "'allSpec_allHorm_allType'"
      ],
      "text/latex": [
       "'allSpec\\_allHorm\\_allType'"
      ],
      "text/markdown": [
       "'allSpec_allHorm_allType'"
      ],
      "text/plain": [
       "[1] \"allSpec_allHorm_allType\""
      ]
     },
     "metadata": {},
     "output_type": "display_data"
    }
   ],
   "source": [
    "names(create_iSensor()$genePanelSets)[1]"
   ]
  },
  {
   "cell_type": "markdown",
   "id": "afe1a0aa-1fed-4d89-8bec-f1ac40cd0953",
   "metadata": {},
   "source": [
    "##### To choose some of default panels and to construct metapanels from them we should do:"
   ]
  },
  {
   "cell_type": "code",
   "execution_count": null,
   "id": "73da066c-d175-448b-a2cf-c4f5e74b32e1",
   "metadata": {},
   "outputs": [],
   "source": [
    "seurat_obj <- iSensor_pipeline(seuratObject=seurat_obj, useParallel = FALSE)"
   ]
  }
 ],
 "metadata": {
  "kernelspec": {
   "display_name": "R 4.1.1",
   "language": "R",
   "name": "ir411"
  },
  "language_info": {
   "codemirror_mode": "r",
   "file_extension": ".r",
   "mimetype": "text/x-r-source",
   "name": "R",
   "pygments_lexer": "r",
   "version": "4.1.1"
  }
 },
 "nbformat": 4,
 "nbformat_minor": 5
}
